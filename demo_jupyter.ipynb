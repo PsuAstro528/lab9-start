{
 "cells": [
  {
   "cell_type": "code",
   "execution_count": null,
   "id": "378c291e",
   "metadata": {},
   "outputs": [],
   "source": [
    "# Uncomment and update the line below if you need to set the path to your package \n",
    "#path = joinpath(homedir(),\"Teach/Astro528/Fall2023/labs/lab9-start\")"
   ]
  },
  {
   "cell_type": "code",
   "execution_count": null,
   "id": "5365b9df",
   "metadata": {},
   "outputs": [],
   "source": [
    "if !(@isdefined path) path = \".\" end\n",
    "import Pkg\n",
    "# Tell Julia to use the Project.toml and Manifest.toml specified in the directory\n",
    "Pkg.activate(path)\n",
    "import Pkg"
   ]
  },
  {
   "cell_type": "code",
   "execution_count": null,
   "id": "e53ed4ee",
   "metadata": {},
   "outputs": [],
   "source": [
    "using ExamplePkg"
   ]
  },
  {
   "cell_type": "code",
   "execution_count": null,
   "id": "34b1d8eb",
   "metadata": {},
   "outputs": [],
   "source": [
    "hello()"
   ]
  },
  {
   "cell_type": "code",
   "execution_count": null,
   "id": "06348924",
   "metadata": {},
   "outputs": [],
   "source": [
    "ExamplePkg.goodbye()"
   ]
  },
  {
   "cell_type": "code",
   "execution_count": null,
   "id": "ade87415",
   "metadata": {},
   "outputs": [],
   "source": []
  }
 ],
 "metadata": {
  "kernelspec": {
   "display_name": "Julia 1.9.2",
   "language": "julia",
   "name": "julia-1.9"
  },
  "language_info": {
   "file_extension": ".jl",
   "mimetype": "application/julia",
   "name": "julia",
   "version": "1.9.2"
  }
 },
 "nbformat": 4,
 "nbformat_minor": 5
}
